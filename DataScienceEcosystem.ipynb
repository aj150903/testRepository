{
 "cells": [
  {
   "cell_type": "markdown",
   "id": "0fcddd6f",
   "metadata": {},
   "source": [
    "# Data Science Tools And Ecosystem\n"
   ]
  },
  {
   "cell_type": "markdown",
   "id": "188abf67",
   "metadata": {},
   "source": [
    "#### *In this notebook, Data Science Tools and Ecosystem are summarized.*\n",
    "\n"
   ]
  },
  {
   "cell_type": "markdown",
   "id": "b2b17605",
   "metadata": {},
   "source": [
    "## Commonly used languages\n",
    "\n",
    "1. Python\n",
    "2. R\n",
    "3. Scala"
   ]
  },
  {
   "cell_type": "markdown",
   "id": "dfba46a7",
   "metadata": {},
   "source": [
    "## Some of the commonly used libraries used by Data Scientists include:\n",
    "1. Pandas\n",
    "2. Numpy\n",
    "3. Matplotlib\n",
    "4. Tensorflow\n",
    "5. Keras"
   ]
  },
  {
   "cell_type": "markdown",
   "id": "ddfc6022",
   "metadata": {},
   "source": [
    "# DataScience Tools\n",
    "| DataScience Tools |\n",
    "| ------ |\n",
    "| Jupytr Notebook |\n",
    "| VS Code |\n",
    "| RStudio |\n",
    "| Jupytr Lite |"
   ]
  },
  {
   "cell_type": "markdown",
   "id": "d1ebdd30",
   "metadata": {},
   "source": [
    "### Below are a few examples of evaluating arithmetic expressions in Python.\n",
    "\n"
   ]
  },
  {
   "cell_type": "code",
   "execution_count": 1,
   "id": "29f59f60",
   "metadata": {},
   "outputs": [
    {
     "data": {
      "text/plain": [
       "17"
      ]
     },
     "execution_count": 1,
     "metadata": {},
     "output_type": "execute_result"
    }
   ],
   "source": [
    "#This a simple arithmetic expression to mutiply then add integers\n",
    "(3*4)+5"
   ]
  },
  {
   "cell_type": "code",
   "execution_count": 6,
   "id": "08f4ffe2",
   "metadata": {},
   "outputs": [
    {
     "name": "stdout",
     "output_type": "stream",
     "text": [
      "3.3333333333333335 hours\n"
     ]
    }
   ],
   "source": [
    "# This will convert 200 minutes to hours by diving by 60\n",
    "minutes = 200\n",
    "hours = minutes/60\n",
    "print(hours, \"hours\")"
   ]
  },
  {
   "cell_type": "markdown",
   "id": "ad8e0753",
   "metadata": {},
   "source": [
    "### **Objectives:**\n",
    "#### List popular languages used for DataScience\n",
    "* Python\n",
    "* R\n",
    "* Julia\n",
    "* Scala\n",
    "* Java\n"
   ]
  },
  {
   "cell_type": "markdown",
   "id": "b4c89d63",
   "metadata": {},
   "source": [
    "## Author\n",
    "Aniket Jain"
   ]
  }
 ],
 "metadata": {
  "kernelspec": {
   "display_name": "Python 3",
   "language": "python",
   "name": "python3"
  },
  "language_info": {
   "codemirror_mode": {
    "name": "ipython",
    "version": 3
   },
   "file_extension": ".py",
   "mimetype": "text/x-python",
   "name": "python",
   "nbconvert_exporter": "python",
   "pygments_lexer": "ipython3",
   "version": "3.10.2"
  }
 },
 "nbformat": 4,
 "nbformat_minor": 5
}
